{
 "cells": [
  {
   "cell_type": "code",
   "execution_count": 1,
   "metadata": {},
   "outputs": [],
   "source": [
    "! mkdir virtuoso/db      -p\n",
    "! mkdir virtuoso/hosting -p\n",
    "! cp virtuoso.ini virtuoso/"
   ]
  },
  {
   "cell_type": "code",
   "execution_count": null,
   "metadata": {},
   "outputs": [
    {
     "name": "stdout",
     "output_type": "stream",
     "text": [
      "\n",
      "\t\tWed Jul 31 2019\n",
      "05:04:12 { Loading plugin 1: Type `plain', file `wikiv' in `./hosting'\n",
      "05:04:12   FAILED  plugin 1: Unable to locate file }\n",
      "05:04:12 { Loading plugin 2: Type `plain', file `mediawiki' in `./hosting'\n",
      "05:04:12   FAILED  plugin 2: Unable to locate file }\n",
      "05:04:12 { Loading plugin 3: Type `plain', file `creolewiki' in `./hosting'\n",
      "05:04:12   FAILED  plugin 3: Unable to locate file }\n",
      "05:04:12 OpenLink Virtuoso Universal Server\n",
      "05:04:12 Version 06.01.3127-pthreads for Linux as of Feb  6 2018\n",
      "05:04:12 uses parts of OpenSSL, PCRE, Html Tidy\n",
      "05:04:12 SQL Optimizer enabled (max 1000 layouts)\n",
      "05:04:12 Compiler unit is timed at 0.004073 msec\n",
      "05:04:14 built-in procedure \"repl_undot_name\" overruled by the RDBMS\n",
      "05:04:14 built-in procedure \"REPL_FQNAME\" overruled by the RDBMS\n",
      "05:04:14 built-in procedure \"REPL_COLTYPE_PS\" overruled by the RDBMS\n",
      "05:04:14 built-in procedure \"REPL_COLTYPE\" overruled by the RDBMS\n",
      "05:04:16 Checkpoint started\n",
      "05:04:16 Roll forward started\n",
      "05:04:16 Roll forward complete\n",
      "05:04:16 Checkpoint started\n",
      "05:04:17 Checkpoint finished, log reused\n",
      "05:04:17 Checkpoint started\n",
      "05:04:17 Checkpoint finished, log reused\n",
      "05:04:17 PL LOG: Can't get list of vad packages in ./vad/\n",
      "05:04:17 Checkpoint started\n",
      "05:04:17 Checkpoint finished, log reused\n",
      "05:04:17 HTTP/WebDAV server online at 8890\n",
      "05:04:17 Server online at 1111 (pid 9995)\n"
     ]
    }
   ],
   "source": [
    "! cd virtuoso && virtuoso-t -f virtuoso.ini"
   ]
  },
  {
   "cell_type": "code",
   "execution_count": null,
   "metadata": {},
   "outputs": [],
   "source": []
  }
 ],
 "metadata": {
  "kernelspec": {
   "display_name": "Python 3",
   "language": "python",
   "name": "python3"
  },
  "language_info": {
   "codemirror_mode": {
    "name": "ipython",
    "version": 3
   },
   "file_extension": ".py",
   "mimetype": "text/x-python",
   "name": "python",
   "nbconvert_exporter": "python",
   "pygments_lexer": "ipython3",
   "version": "3.7.3"
  }
 },
 "nbformat": 4,
 "nbformat_minor": 2
}
