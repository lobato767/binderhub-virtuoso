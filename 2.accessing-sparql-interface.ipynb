{
 "cells": [
  {
   "cell_type": "markdown",
   "metadata": {},
   "source": [
    "## Resolving the binderhub instance URL"
   ]
  },
  {
   "cell_type": "code",
   "execution_count": null,
   "metadata": {},
   "outputs": [],
   "source": [
    "from IPython.core.display import HTML \n",
    "import os"
   ]
  },
  {
   "cell_type": "code",
   "execution_count": null,
   "metadata": {},
   "outputs": [],
   "source": [
    "%env SERVER_URL   hub.gke.mybinder.org\n",
    "%env PROXY_SUBURL proxy/8890/sparql"
   ]
  },
  {
   "cell_type": "code",
   "execution_count": null,
   "metadata": {},
   "outputs": [],
   "source": [
    "url_message='<b>SPARQL interface is available at:</b> <a href=\"http://{0}{1}{2}\" target=\"_blank\"> http://{0}{1}{2}</a>'\n",
    "display(HTML(url_message.format(os.environ['SERVER_URL'],os.environ['JUPYTERHUB_SERVICE_PREFIX'],os.environ['PROXY_SUBURL'])))"
   ]
  },
  {
   "cell_type": "markdown",
   "metadata": {},
   "source": [
    "## Allowing the SPARQL Interface to execute SPARQL INSERTs"
   ]
  },
  {
   "cell_type": "code",
   "execution_count": null,
   "metadata": {},
   "outputs": [],
   "source": [
    "! isql-vt EXEC='grant execute on \"DB.DBA.EXEC_AS\" to \"SPARQL\";'\n",
    "! isql-vt EXEC='grant execute on \"DB.DBA.SPARQL_INSERT_DICT_CONTENT\" to \"SPARQL\";'"
   ]
  },
  {
   "cell_type": "code",
   "execution_count": null,
   "metadata": {},
   "outputs": [],
   "source": []
  }
 ],
 "metadata": {
  "kernelspec": {
   "display_name": "Python 3",
   "language": "python",
   "name": "python3"
  },
  "language_info": {
   "codemirror_mode": {
    "name": "ipython",
    "version": 3
   },
   "file_extension": ".py",
   "mimetype": "text/x-python",
   "name": "python",
   "nbconvert_exporter": "python",
   "pygments_lexer": "ipython3",
   "version": "3.7.3"
  }
 },
 "nbformat": 4,
 "nbformat_minor": 2
}
